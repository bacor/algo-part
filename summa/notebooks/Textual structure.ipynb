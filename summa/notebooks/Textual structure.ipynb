{
 "cells": [
  {
   "cell_type": "markdown",
   "id": "6b454421-0360-45e5-995c-9faf610afeaf",
   "metadata": {},
   "source": [
    "# Table: Structure of Summa"
   ]
  },
  {
   "cell_type": "markdown",
   "id": "db6abf83-5e2e-41af-8fe6-9a9f5299a7bf",
   "metadata": {},
   "source": [
    "This notebook generates a LaTeX table summarizing the structure of _Summa_."
   ]
  },
  {
   "cell_type": "code",
   "execution_count": 12,
   "id": "bafb78d3-298c-47f2-8c9d-8edc6d41b0d9",
   "metadata": {},
   "outputs": [],
   "source": [
    "import numpy as np\n",
    "import sys\n",
    "sys.path.append('notebooks')\n",
    "from utils import syllabify"
   ]
  },
  {
   "cell_type": "code",
   "execution_count": 13,
   "id": "bf7844ba-f84c-41bb-8da6-ddfc4cb499d0",
   "metadata": {},
   "outputs": [],
   "source": [
    "# Load and segment the text of the Credo\n",
    "with open('credo.txt', 'r') as file:\n",
    "    credo = file.read()\n",
    "syllables = syllabify(credo)"
   ]
  },
  {
   "cell_type": "code",
   "execution_count": 15,
   "id": "04cfcd89-df49-458c-85d5-ab988feda316",
   "metadata": {},
   "outputs": [],
   "source": [
    "# Structure of the piece\n",
    "syllables_per_measure = [7, 9, 7] * 16\n",
    "divisi = ['SA', 'SATB', 'TB', 'TB', 'SATB', 'SA'] * 8"
   ]
  },
  {
   "cell_type": "code",
   "execution_count": 5,
   "id": "052e2c47-9e86-4441-a4ef-dfa0e2f78a1d",
   "metadata": {},
   "outputs": [],
   "source": [
    "# Final bars\n",
    "syllables_per_measure[-1] = 4\n",
    "syllables_per_measure.append(1)\n",
    "divisi.append('SATB')\n",
    "\n",
    "assert sum(syllables_per_measure) == len(SYLLABLES)"
   ]
  },
  {
   "cell_type": "code",
   "execution_count": 42,
   "id": "3e60323c-a0ca-425c-a963-dbfe6f9b412c",
   "metadata": {},
   "outputs": [
    {
     "name": "stdout",
     "output_type": "stream",
     "text": [
      "Sec Bar Sylls Divisi  Text\n",
      "——————————————————————————————————————————————————————————————————————\n",
      "\\framebox{\\tiny1}\n",
      "\t&1  &\\textsc{sa}   &7 &Cre-  &do    &in    &u-    &num   &de-   &um,   \\\\\n",
      "   \t&2  &\\textsc{satb} &9 &Pa-   &trem  &o-    &mni-  &po-   &ten-  &tem,  &fa-   &cto-  \\\\\n",
      "   \t&3  &\\textsc{tb}   &7 &rem   &coe-  &li    &et    &ter-  &rae,  &vi-   \\\\\n",
      "\\framebox{\\tiny2}\n",
      "\t&4  &\\textsc{tb}   &7 &si-   &bi-   &li-   &um    &o-    &mni-  &um,   \\\\\n",
      "   \t&5  &\\textsc{satb} &9 &et    &in-   &vi-   &si-   &bi-   &li-   &um,   &et    &in    \\\\\n",
      "   \t&6  &\\textsc{sa}   &7 &u-    &num   &Do-   &mi-   &num   &Je-   &sum   \\\\\n",
      "\\framebox{\\tiny3}\n",
      "\t&7  &\\textsc{sa}   &7 &Chri- &stum, &Fi-   &li-   &um    &De-   &i     \\\\\n",
      "   \t&8  &\\textsc{satb} &9 &u-    &ni-   &ge-   &ni-   &tum,  &et    &ex    &Pa-   &tre   \\\\\n",
      "   \t&9  &\\textsc{tb}   &7 &na-   &tum   &an-   &te    &o-    &mni-  &a     \\\\\n",
      "\\framebox{\\tiny4}\n",
      "\t&10 &\\textsc{tb}   &7 &sae-  &cu-   &la.   &De-   &um    &de    &De-   \\\\\n",
      "   \t&11 &\\textsc{satb} &9 &o,    &lu-   &men   &de    &lu-   &mi-   &ne,   &De-   &um    \\\\\n",
      "   \t&12 &\\textsc{sa}   &7 &ve-   &rum   &de    &De-   &o     &ve-   &ro,   \\\\\n",
      "\\framebox{\\tiny5}\n",
      "\t&13 &\\textsc{sa}   &7 &ge-   &ni-   &tum,  &non   &fa-   &ctum, &con-  \\\\\n",
      "   \t&14 &\\textsc{satb} &9 &sub-  &stan- &ti-   &a-    &lem   &Pa-   &tri:  &per   &quem  \\\\\n",
      "   \t&15 &\\textsc{tb}   &7 &o-    &mni-  &a     &fac-  &ta    &sunt. &Qui   \\\\\n",
      "\\framebox{\\tiny6}\n",
      "\t&16 &\\textsc{tb}   &7 &prop- &ter   &nos   &ho-   &mi-   &nes,  &et    \\\\\n",
      "   \t&17 &\\textsc{satb} &9 &pro-  &pter  &no-   &stram &sa-   &lu-   &tem   &de-   &scen- \\\\\n",
      "   \t&18 &\\textsc{sa}   &7 &dit   &de    &coe-  &lis.  &Et    &in-   &car-  \\\\\n",
      "\\framebox{\\tiny7}\n",
      "\t&19 &\\textsc{sa}   &7 &na-   &tus   &est   &de    &Spi-  &ri-   &tu    \\\\\n",
      "   \t&20 &\\textsc{satb} &9 &San-  &cto   &ex    &Ma-   &ri-   &a     &Vir-  &gi-   &ne:   \\\\\n",
      "   \t&21 &\\textsc{tb}   &7 &Et    &ho-   &mo    &fa-   &ctus  &est.  &Cru-  \\\\\n",
      "\\framebox{\\tiny8}\n",
      "\t&22 &\\textsc{tb}   &7 &ci-   &fi-   &xus   &e-    &ti-   &am    &pro   \\\\\n",
      "   \t&23 &\\textsc{satb} &9 &no-   &bis   &sub   &Pon-  &ti-   &o     &Pi-   &la-   &to    \\\\\n",
      "   \t&24 &\\textsc{sa}   &7 &pas-  &sus   &et    &se-   &pul-  &tus   &est.  \\\\\n",
      "\\framebox{\\tiny9}\n",
      "\t&25 &\\textsc{sa}   &7 &Et    &re-   &sur-  &re-   &xit   &ter-  &ti-   \\\\\n",
      "   \t&26 &\\textsc{satb} &9 &a     &di-   &e,    &se-   &cun-  &dum   &scri- &ptu-  &ras.  \\\\\n",
      "   \t&27 &\\textsc{tb}   &7 &Et    &a-    &scen- &dit   &in    &coe-  &lum,  \\\\\n",
      "\\framebox{\\tiny10}\n",
      "\t&28 &\\textsc{tb}   &7 &se-   &det   &ad    &dex-  &te-   &ram   &Pa-   \\\\\n",
      "   \t&29 &\\textsc{satb} &9 &tris. &Et    &i-    &te-   &rum   &ven-  &tu-   &rus   &est   \\\\\n",
      "   \t&30 &\\textsc{sa}   &7 &cum   &glo-  &ri-   &a,    &ju-   &di-   &ca-   \\\\\n",
      "\\framebox{\\tiny11}\n",
      "\t&31 &\\textsc{sa}   &7 &re    &vi-   &vos   &et    &mor-  &tu-   &os,   \\\\\n",
      "   \t&32 &\\textsc{satb} &9 &cu-   &jus   &re-   &gni   &non   &e-    &rit   &fi-   &nis.  \\\\\n",
      "   \t&33 &\\textsc{tb}   &7 &Et    &in    &Spi-  &ri-   &tum   &San-  &ctum, \\\\\n",
      "\\framebox{\\tiny12}\n",
      "\t&34 &\\textsc{tb}   &7 &Do-   &mi-   &num,  &et    &vi-   &vi-   &fi-   \\\\\n",
      "   \t&35 &\\textsc{satb} &9 &can-  &tem:  &qui   &ex    &Pa-   &tre   &Fi-   &li-   &o-    \\\\\n",
      "   \t&36 &\\textsc{sa}   &7 &que   &pro-  &ce-   &dit.  &Qui   &cum   &Pa-   \\\\\n",
      "\\framebox{\\tiny13}\n",
      "\t&37 &\\textsc{sa}   &7 &tre   &et    &Fi-   &li-   &o     &si-   &mul   \\\\\n",
      "   \t&38 &\\textsc{satb} &9 &ad-   &o-    &ra-   &tur,  &et    &con-  &glo-  &ri-   &fi-   \\\\\n",
      "   \t&39 &\\textsc{tb}   &7 &ca-   &tur,  &qui   &lo-   &cu-   &tus   &est   \\\\\n",
      "\\framebox{\\tiny14}\n",
      "\t&40 &\\textsc{tb}   &7 &per   &Pro-  &phe-  &tas.  &Et    &u-    &nam   \\\\\n",
      "   \t&41 &\\textsc{satb} &9 &san-  &ctam  &ca-   &tho-  &li-   &cam   &et    &a-    &po-   \\\\\n",
      "   \t&42 &\\textsc{sa}   &7 &sto-  &li-   &cam   &Ec-   &cle-  &si-   &am.   \\\\\n",
      "\\framebox{\\tiny15}\n",
      "\t&43 &\\textsc{sa}   &7 &Con-  &fi-   &te-   &or    &u-    &num   &ba-   \\\\\n",
      "   \t&44 &\\textsc{satb} &9 &pti-  &sma   &in    &re-   &mis-  &si-   &o-    &nem   &pec-  \\\\\n",
      "   \t&45 &\\textsc{tb}   &7 &ca-   &to-   &rum.  &Et    &ex-   &spe-  &cto   \\\\\n",
      "\\framebox{\\tiny16}\n",
      "\t&46 &\\textsc{tb}   &7 &re-   &sur-  &re-   &cti-  &o-    &nem   &mor-  \\\\\n",
      "   \t&47 &\\textsc{satb} &9 &tu-   &o-    &rum,  &et    &vi-   &tam   &ven-  &tu-   &ri    \\\\\n",
      "   \t&48 &\\textsc{sa}   &4 &sae-  &cu-   &li.   &A-    \\\\\n",
      "\\framebox{\\tiny17}\n",
      "\t&49 &\\textsc{satb} &1 &men   \\\\\n"
     ]
    }
   ],
   "source": [
    "# Print LaTeX table\n",
    "print('Sec Bar Sylls divisi  Text')\n",
    "print('—'*70)\n",
    "sep = \"&\"\n",
    "pos = np.cumsum(syllables_per_measure).tolist()\n",
    "for m, (length, divisi, start, end) in enumerate(\n",
    "        zip(syllables_per_measure, divisi, [0] + pos, pos)):\n",
    "    measure = sep.join([f\"{s.replace('- ', '-'): <6}\" for s in SYLLABLES[start:end]])\n",
    "    rehearsal = f'\\\\framebox{{\\\\tiny{m // 3 + 1}}}\\n' if m % 3 == 0 else ''\n",
    "    divisi = f'\\\\textsc{{{divisi.lower()}}}'\n",
    "    print(f'{rehearsal: <3}\\t{sep}{m+1: <2} {sep}{divisi: <13} {sep}{length} {sep}{measure}\\\\\\\\')"
   ]
  },
  {
   "cell_type": "code",
   "execution_count": 22,
   "id": "72de1967-fc2b-4cf7-8df5-97a6f224c2e5",
   "metadata": {},
   "outputs": [
    {
     "name": "stdout",
     "output_type": "stream",
     "text": [
      "Number of syllables: 366\n",
      "Longest syllable: 5 letters\n"
     ]
    }
   ],
   "source": [
    "# Some stats\n",
    "print(\"Number of syllables:\", len(syllables))\n",
    "print(\"Longest syllable:\", max([len(s) for s in syllables]), \"letters\")"
   ]
  }
 ],
 "metadata": {
  "kernelspec": {
   "display_name": "Python 3 (ipykernel)",
   "language": "python",
   "name": "python3"
  },
  "language_info": {
   "codemirror_mode": {
    "name": "ipython",
    "version": 3
   },
   "file_extension": ".py",
   "mimetype": "text/x-python",
   "name": "python",
   "nbconvert_exporter": "python",
   "pygments_lexer": "ipython3",
   "version": "3.7.6"
  }
 },
 "nbformat": 4,
 "nbformat_minor": 5
}
