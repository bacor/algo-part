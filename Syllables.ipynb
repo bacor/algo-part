{
 "cells": [
  {
   "cell_type": "code",
   "execution_count": 1,
   "id": "c6e15f40",
   "metadata": {},
   "outputs": [],
   "source": [
    "import numpy as np\n",
    "import music21\n",
    "from music21 import converter\n",
    "from music21 import stream\n",
    "from music21.note import Note\n",
    "from copy import deepcopy"
   ]
  },
  {
   "cell_type": "markdown",
   "id": "52fa2386-5e6d-4030-974e-08d349511d9f",
   "metadata": {
    "tags": []
   },
   "source": [
    "## Helpers"
   ]
  },
  {
   "cell_type": "code",
   "execution_count": 2,
   "id": "1deb4852-5b7a-4bc0-8a9d-8d7cff427330",
   "metadata": {},
   "outputs": [],
   "source": [
    "def repeat_stream(s, num_repeats):\n",
    "    s2 = deepcopy(s)\n",
    "    for _ in range(num_repeats - 1):\n",
    "        for el in s:\n",
    "            s2.append(deepcopy(el))\n",
    "    return s2"
   ]
  },
  {
   "cell_type": "code",
   "execution_count": 3,
   "id": "8954f069-8ea0-4f0b-924b-1a55c02a972d",
   "metadata": {},
   "outputs": [],
   "source": [
    "def append_mirror(mylist):\n",
    "    return mylist + mylist[::-1]"
   ]
  },
  {
   "cell_type": "code",
   "execution_count": 4,
   "id": "0faaf1d2-bd75-4305-8182-d9e90cf05ef0",
   "metadata": {},
   "outputs": [],
   "source": [
    "def mirror_note_diatonic(note, scale, center_degree=1):\n",
    "    center_pitch = scale.pitchFromDegree(center_degree)\n",
    "    steps = note.pitch.diatonicNoteNum - center_pitch.diatonicNoteNum\n",
    "    \n",
    "    degree = (-1 * steps) % 7 + 1\n",
    "    pitch = scale.pitchFromDegree(degree)\n",
    "    \n",
    "    relative_octave = -1 * (steps // 7)\n",
    "    if steps % 7 != 0: relative_octave -= 1\n",
    "    pitch.octave += relative_octave\n",
    "\n",
    "    return Note(deepcopy(pitch))\n",
    "\n",
    "def mirror_diatonic(stream, scale, center_degree=1):\n",
    "    s = music21.stream.Stream()\n",
    "    for note in stream.notes:\n",
    "        n = mirror_note_diatonic(note, scale, center_degree=center_degree)\n",
    "        s.append(n)\n",
    "    return s"
   ]
  },
  {
   "cell_type": "markdown",
   "id": "0f923130-6957-475b-9de5-3ea4da130199",
   "metadata": {
    "tags": []
   },
   "source": [
    "## Text: Credo"
   ]
  },
  {
   "cell_type": "code",
   "execution_count": 5,
   "id": "80b9c337-f89c-48cc-a567-00dbcd90438e",
   "metadata": {
    "tags": []
   },
   "outputs": [],
   "source": [
    "def syllabify(text):\n",
    "    syllables = []\n",
    "    for phrase in text.split('\\n'):\n",
    "        for word in phrase.split(' '):\n",
    "            sylls = word.split('-')\n",
    "            for i, syll in enumerate(sylls):\n",
    "                if i < len(sylls) - 1:\n",
    "                    syll += '-'\n",
    "                syllables.append(syll)\n",
    "    return syllables"
   ]
  },
  {
   "cell_type": "code",
   "execution_count": 6,
   "id": "e52835ea-2d7a-4620-acdc-52c9ffb1b33a",
   "metadata": {
    "tags": []
   },
   "outputs": [],
   "source": [
    "CREDO = \"\"\"\n",
    "Cre-do in u-num de-um,\n",
    "Pa-trem o-mni-po-ten-tem,\n",
    "fa-cto-rem coe-li et ter-rae,\n",
    "vi-si-bi-li-um o-mni-um,\n",
    "et in-vi-si-bi-li-um,\n",
    "et in u-num Do-mi-num Je-sum Chri-stum,\n",
    "Fi-li-um De-i u-ni-ge-ni-tum,\n",
    "et ex Pa-tre na-tum an-te o-mni-a sae-cu-la.\n",
    "De-um de De-o, lu-men de lu-mi-ne,\n",
    "De-um ve-rum de De-o ve-ro,\n",
    "ge-ni-tum,\n",
    "non fa-ctum,\n",
    "con-sub-stan-ti-a-lem Pa-tri:\n",
    "per quem o-mni-a fac-ta sunt.\n",
    "Qui prop-ter nos ho-mi-nes,\n",
    "et pro-pter no-stram sa-lu-tem de-scen-dit de coe-lis.\n",
    "Et in-car-na-tus est de Spi-ri-tu San-cto ex Ma-ri-a Vir-gi-ne:\n",
    "Et ho-mo fa-ctus est.\n",
    "Cru-ci-fi-xus e-ti-am pro no-bis sub Pon-ti-o Pi-la-to pas-sus et se-pul-tus est.\n",
    "Et re-sur-re-xit ter-ti-a di-e,\n",
    "se-cun-dum scri-ptu-ras.\n",
    "Et a-scen-dit in coe-lum,\n",
    "se-det ad dex-te-ram Pa-tris.\n",
    "Et i-te-rum ven-tu-rus est cum glo-ri-a,\n",
    "ju-di-ca-re vi-vos et mor-tu-os,\n",
    "cu-jus re-gni non e-rit fi-nis.\n",
    "Et in Spi-ri-tum San-ctum,\n",
    "Do-mi-num,\n",
    "et vi-vi-fi-can-tem:\n",
    "qui ex Pa-tre Fi-li-o-que pro-ce-dit.\n",
    "Qui cum Pa-tre et Fi-li-o si-mul ad-o-ra-tur,\n",
    "et con-glo-ri-fi-ca-tur,\n",
    "qui lo-cu-tus est per Pro-phe-tas.\n",
    "Et u-nam san-ctam ca-tho-li-cam et a-po-sto-li-cam Ec-cle-si-am.\n",
    "Con-fi-te-or u-num ba-pti-sma in re-mis-si-o-nem pec-ca-to-rum.\n",
    "Et ex-spe-cto re-sur-re-cti-o-nem mor-tu-o-rum,\n",
    "et vi-tam ven-tu-ri sae-cu-li.\n",
    "A-men\"\"\".strip()"
   ]
  },
  {
   "cell_type": "code",
   "execution_count": 7,
   "id": "2eebdd5a-bf45-4082-9707-612569c6bd1c",
   "metadata": {},
   "outputs": [
    {
     "data": {
      "text/plain": [
       "['Cre-', 'do', 'in', 'u-', 'num']"
      ]
     },
     "execution_count": 7,
     "metadata": {},
     "output_type": "execute_result"
    }
   ],
   "source": [
    "SYLLABLES = syllabify(CREDO)\n",
    "SYLLABLES[:5]"
   ]
  },
  {
   "cell_type": "markdown",
   "id": "a9fd04ec-1ea0-4a6e-af6b-1c1ca9622d5f",
   "metadata": {
    "tags": []
   },
   "source": [
    "## Basic structure"
   ]
  },
  {
   "cell_type": "markdown",
   "id": "6d1fe645-558e-4cd7-9e2c-16a6caf687ef",
   "metadata": {},
   "source": [
    "The piece is organized in 16 sections of three measures, each containing 7, 9 and 7 syllables respectively. \n",
    "The number of quarter notes per measure varies, but the number of syllables follows the same pattern throughout.\n",
    "The divisi change from measure to measure and mirror the divisi in the previous section.\n",
    "Concretely, the first section (mm. 1–3) has divisi SA, SATB and TB, and so the second section (mm. 4–6) has divisi TB, SATB and SA.\n",
    "\n",
    "Note that the final two bars deviate from the otherwise completely regular pattern: the final two bars contain 4 and 1 syllables respectively, both in SATB divisi."
   ]
  },
  {
   "cell_type": "code",
   "execution_count": 8,
   "id": "1ba59198-1027-4da2-9675-93a38c827678",
   "metadata": {},
   "outputs": [],
   "source": [
    "SYLLABLES_PER_MEASURE = [7, 9, 7] * 16\n",
    "DIVISI = ['SA', 'SATB', 'TB', 'TB', 'SATB', 'SA'] * 8"
   ]
  },
  {
   "cell_type": "code",
   "execution_count": 9,
   "id": "6731931e-4f81-4646-8b42-85a5f1ad7794",
   "metadata": {},
   "outputs": [],
   "source": [
    "# Final bars\n",
    "SYLLABLES_PER_MEASURE[-1] = 4\n",
    "SYLLABLES_PER_MEASURE.append(1)\n",
    "DIVISI.append('SATB')\n",
    "\n",
    "assert sum(SYLLABLES_PER_MEASURE) == len(SYLLABLES)"
   ]
  },
  {
   "cell_type": "code",
   "execution_count": 10,
   "id": "96bd3cbb-5069-403a-ae8c-70a7302be80c",
   "metadata": {
    "tags": []
   },
   "outputs": [
    {
     "name": "stdout",
     "output_type": "stream",
     "text": [
      "Sec Bar Sylls Divisi  Text\n",
      "——————————————————————————————————————————————————————————————————————\n",
      "1   1   7     SA      Cre-do in u-num de-um,\n",
      "    2   9     SATB    Pa-trem o-mni-po-ten-tem, fa-cto-\n",
      "    3   7     TB      rem coe-li et ter-rae, vi-\n",
      "2   4   7     TB      si-bi-li-um o-mni-um,\n",
      "    5   9     SATB    et in-vi-si-bi-li-um, et in\n",
      "    6   7     SA      u-num Do-mi-num Je-sum\n",
      "3   7   7     SA      Chri-stum, Fi-li-um De-i\n",
      "    8   9     SATB    u-ni-ge-ni-tum, et ex Pa-tre\n",
      "    9   7     TB      na-tum an-te o-mni-a\n",
      "4   10  7     TB      sae-cu-la. De-um de De-\n",
      "    11  9     SATB    o, lu-men de lu-mi-ne, De-um\n",
      "    12  7     SA      ve-rum de De-o ve-ro,\n",
      "5   13  7     SA      ge-ni-tum, non fa-ctum, con-\n",
      "    14  9     SATB    sub-stan-ti-a-lem Pa-tri: per quem\n",
      "    15  7     TB      o-mni-a fac-ta sunt. Qui\n",
      "6   16  7     TB      prop-ter nos ho-mi-nes, et\n",
      "    17  9     SATB    pro-pter no-stram sa-lu-tem de-scen-\n",
      "    18  7     SA      dit de coe-lis. Et in-car-\n",
      "7   19  7     SA      na-tus est de Spi-ri-tu\n",
      "    20  9     SATB    San-cto ex Ma-ri-a Vir-gi-ne:\n",
      "    21  7     TB      Et ho-mo fa-ctus est. Cru-\n",
      "8   22  7     TB      ci-fi-xus e-ti-am pro\n",
      "    23  9     SATB    no-bis sub Pon-ti-o Pi-la-to\n",
      "    24  7     SA      pas-sus et se-pul-tus est.\n",
      "9   25  7     SA      Et re-sur-re-xit ter-ti-\n",
      "    26  9     SATB    a di-e, se-cun-dum scri-ptu-ras.\n",
      "    27  7     TB      Et a-scen-dit in coe-lum,\n",
      "10  28  7     TB      se-det ad dex-te-ram Pa-\n",
      "    29  9     SATB    tris. Et i-te-rum ven-tu-rus est\n",
      "    30  7     SA      cum glo-ri-a, ju-di-ca-\n",
      "11  31  7     SA      re vi-vos et mor-tu-os,\n",
      "    32  9     SATB    cu-jus re-gni non e-rit fi-nis.\n",
      "    33  7     TB      Et in Spi-ri-tum San-ctum,\n",
      "12  34  7     TB      Do-mi-num, et vi-vi-fi-\n",
      "    35  9     SATB    can-tem: qui ex Pa-tre Fi-li-o-\n",
      "    36  7     SA      que pro-ce-dit. Qui cum Pa-\n",
      "13  37  7     SA      tre et Fi-li-o si-mul\n",
      "    38  9     SATB    ad-o-ra-tur, et con-glo-ri-fi-\n",
      "    39  7     TB      ca-tur, qui lo-cu-tus est\n",
      "14  40  7     TB      per Pro-phe-tas. Et u-nam\n",
      "    41  9     SATB    san-ctam ca-tho-li-cam et a-po-\n",
      "    42  7     SA      sto-li-cam Ec-cle-si-am.\n",
      "15  43  7     SA      Con-fi-te-or u-num ba-\n",
      "    44  9     SATB    pti-sma in re-mis-si-o-nem pec-\n",
      "    45  7     TB      ca-to-rum. Et ex-spe-cto\n",
      "16  46  7     TB      re-sur-re-cti-o-nem mor-\n",
      "    47  9     SATB    tu-o-rum, et vi-tam ven-tu-ri\n",
      "    48  4     SA      sae-cu-li. A-\n",
      "17  49  1     SATB    men\n"
     ]
    }
   ],
   "source": [
    "print('Sec Bar Sylls Divisi  Text')\n",
    "print('—'*70)\n",
    "pos = np.cumsum(SYLLABLES_PER_MEASURE).tolist()\n",
    "for m, (length, divisi, start, end) in enumerate(\n",
    "        zip(SYLLABLES_PER_MEASURE, DIVISI, [0] + pos, pos)):\n",
    "    measure = \" \".join(SYLLABLES[start:end]).replace('- ', '-')\n",
    "    rehearsal = m // 3 + 1 if m % 3 == 0 else ''\n",
    "    print(f'{rehearsal: <3} {m+1: <2}  {length}     {divisi: <4}    {measure}')"
   ]
  },
  {
   "cell_type": "code",
   "execution_count": 11,
   "id": "581006be-cf06-4108-a382-20f8f058b78b",
   "metadata": {
    "tags": []
   },
   "outputs": [],
   "source": [
    "def init_score(measure_syllable_counts, measure_divisi):\n",
    "    # Set up parts\n",
    "    score = stream.Score()\n",
    "    score.soprano = stream.Part(id='soprano')\n",
    "    score.alto = stream.Part(id='alto')\n",
    "    score.tenor = stream.Part(id='tenor')\n",
    "    score.bass = stream.Part(id='bass')\n",
    "    parts = [score.soprano, score.alto, score.tenor, score.bass]\n",
    "    score.append(parts)\n",
    "    \n",
    "    # Metadata\n",
    "    score.editorial['measures'] = len(measure_syllable_counts)\n",
    "    score.editorial['measure_syllable_counts'] = measure_syllable_counts\n",
    "    score.editorial['measure_divisi'] = measure_divisi\n",
    "\n",
    "    # Insert measures\n",
    "    for syllable_count, divisi in zip(measure_syllable_counts, measure_divisi):\n",
    "        for part in parts:\n",
    "            measure = stream.Measure()\n",
    "            measure.editorial['syllable_count'] = syllable_count\n",
    "            measure.editorial['divisi'] = divisi\n",
    "            measure.editorial['active'] = part.id[0].upper() in divisi\n",
    "            part.append(measure)\n",
    "\n",
    "    # Set clefs\n",
    "    bass_clef = music21.clef.BassClef()\n",
    "    score.bass.measure(1).append(bass_clef)\n",
    "    tenor_clef = music21.clef.Treble8vbClef()\n",
    "    score.tenor.measure(1).append(tenor_clef)\n",
    "    \n",
    "    # Key signature\n",
    "    key = music21.key.KeySignature(1)\n",
    "    for part in parts:\n",
    "        part.measure(1).append(key)\n",
    "        \n",
    "    return score\n",
    "\n",
    "score = init_score(SYLLABLES_PER_MEASURE, DIVISI)"
   ]
  },
  {
   "cell_type": "markdown",
   "id": "c4975891-de31-48b5-9afe-0f967dacabc9",
   "metadata": {},
   "source": [
    "## Basic melodic material"
   ]
  },
  {
   "cell_type": "markdown",
   "id": "94d75d5d-c538-4303-81ba-f02a6d66edf8",
   "metadata": {
    "tags": []
   },
   "source": [
    "### Alto"
   ]
  },
  {
   "cell_type": "markdown",
   "id": "c83c449d-c521-4754-8627-b5b4893a035e",
   "metadata": {},
   "source": [
    "\n",
    "The basic material for both the alto and the bass is an E aeolean scale. The alto for example starts on an E3, descends down to an E4 and goes up to G4, to descend again. Now it however skips the root E4. So essentially it repeats the following 15-note pattern 16 times, but starts and ends that whole sequence with an E. One could say that starting from the resting position, it avoids the closing tonic, until the very last note."
   ]
  },
  {
   "cell_type": "code",
   "execution_count": 12,
   "id": "903bd0ce-0e65-4051-a9b6-a35907f7f213",
   "metadata": {
    "tags": []
   },
   "outputs": [
    {
     "data": {
      "image/png": "[encoded data removed]",
      "text/plain": [
       "<IPython.core.display.Image object>"
      ]
     },
     "metadata": {
      "image/png": {
       "height": 70,
       "width": 748
      }
     },
     "output_type": "display_data"
    }
   ],
   "source": [
    "alto_pattern = converter.parse(\"tinynotation: d c B A G F# G A B c d e f# g f#\").flat.notes\n",
    "alto_pattern.show()"
   ]
  },
  {
   "cell_type": "code",
   "execution_count": 13,
   "id": "02f37ee2-8629-4eda-a995-a58a9e126f8c",
   "metadata": {},
   "outputs": [],
   "source": [
    "def get_alto_notes(pattern):\n",
    "    notes = repeat_stream(pattern, 16)\n",
    "    notes.insertAndShift(0, music21.note.Note('E4')) \n",
    "    notes.append(music21.note.Note('E4'))\n",
    "    return notes\n",
    "\n",
    "alto_notes = get_alto_notes(alto_pattern)"
   ]
  },
  {
   "cell_type": "markdown",
   "id": "ea12847d-93e6-45f4-9f3b-314270d7855e",
   "metadata": {
    "tags": []
   },
   "source": [
    "### Bass"
   ]
  },
  {
   "cell_type": "markdown",
   "id": "cf23492e-fb94-4bd6-a704-e8793baa1065",
   "metadata": {},
   "source": [
    "The bass goes through a similar 15-note pattern 16 times, starting and ending on an E. \n",
    "The pattern however starts ascending, rather than descending. \n",
    "So the bass pattern is really just the mirror image of the alto, mirrored in the tonic E4, and transposed an octave down:"
   ]
  },
  {
   "cell_type": "code",
   "execution_count": 14,
   "id": "748c2a2d-46f3-4534-94f9-f3130b95d18d",
   "metadata": {},
   "outputs": [],
   "source": [
    "def get_bass_pattern(pattern):\n",
    "    scale = music21.scale.MinorScale(tonic='E4')\n",
    "    bass_pattern = mirror_diatonic(pattern, scale=scale, center_degree=1)\n",
    "    bass_pattern = bass_pattern.transpose(-12)\n",
    "    return bass_pattern"
   ]
  },
  {
   "cell_type": "code",
   "execution_count": 15,
   "id": "3108de80-eae1-4d48-8695-b9cca508aa7d",
   "metadata": {},
   "outputs": [
    {
     "data": {
      "image/png": "[encoded data removed]",
      "text/plain": [
       "<IPython.core.display.Image object>"
      ]
     },
     "metadata": {
      "image/png": {
       "height": 50,
       "width": 748
      }
     },
     "output_type": "display_data"
    }
   ],
   "source": [
    "bass_pattern = get_bass_pattern(alto_pattern)\n",
    "bass_pattern.show()"
   ]
  },
  {
   "cell_type": "code",
   "execution_count": 16,
   "id": "0c6c6a18-b245-4543-b94d-3d8d698e41a9",
   "metadata": {},
   "outputs": [],
   "source": [
    "def get_bass_notes(pattern):\n",
    "    notes = repeat_stream(pattern, 16)\n",
    "    notes.insertAndShift(0, music21.note.Note('E3'))\n",
    "    notes.append(music21.note.Note('E4'))\n",
    "    return notes\n",
    "\n",
    "bass_notes = get_bass_notes(bass_pattern)"
   ]
  },
  {
   "cell_type": "markdown",
   "id": "90d9edd4-7363-47b8-89c3-3785136dafd3",
   "metadata": {
    "tags": []
   },
   "source": [
    "### Tenor"
   ]
  },
  {
   "cell_type": "code",
   "execution_count": 17,
   "id": "c2e3c3bd-2c46-49c2-a46f-3ebec3fa71d6",
   "metadata": {},
   "outputs": [],
   "source": [
    "tenor_pitches = ['E3', 'G3', 'B3', 'E4', 'G4']\n",
    "tenor_pitches = [Note(n) for n in tenor_pitches]\n",
    "\n",
    "def tintanibulli_above(note, steps = 1):\n",
    "    i = 0\n",
    "    for p in tenor_pitches:\n",
    "        if note < p:\n",
    "            i += 1\n",
    "            if i == steps:\n",
    "                return deepcopy(p)\n",
    "    return None\n",
    "\n",
    "def tintanibulli_below(note, steps = 1):\n",
    "    i = 0\n",
    "    for p in tenor_pitches[::-1]:\n",
    "        if p < note:\n",
    "            i += 1\n",
    "            if i == steps:\n",
    "                return deepcopy(p)\n",
    "    return None"
   ]
  },
  {
   "cell_type": "code",
   "execution_count": 18,
   "id": "2060e737-f550-4647-be0c-fce88ec4c295",
   "metadata": {},
   "outputs": [],
   "source": [
    "def get_tenor_notes(bass_notes):\n",
    "    notes = stream.Stream()\n",
    "    prev = Note('E3')\n",
    "    for n1, n2 in zip(bass_notes, bass_notes[1:]):\n",
    "        if n1 < n2:\n",
    "            # Ascending\n",
    "            next_note = tintanibulli_above(prev)\n",
    "            if next_note is None or next_note == n2:\n",
    "                next_note = tintanibulli_below(prev)\n",
    "\n",
    "        elif n1 > n2:\n",
    "            next_note = tintanibulli_below(prev)\n",
    "            if next_note is None or next_note == n2:\n",
    "                next_note = tintanibulli_above(prev)\n",
    "\n",
    "        notes.append(next_note)\n",
    "        prev = next_note\n",
    "\n",
    "    notes.insertAndShift(0, Note('B3'))\n",
    "    return notes\n",
    "\n",
    "tenor_notes = get_tenor_notes(bass_notes)"
   ]
  },
  {
   "cell_type": "markdown",
   "id": "241e1978-37e9-492f-bc4e-1e64d7eae775",
   "metadata": {
    "tags": []
   },
   "source": [
    "## Melismas"
   ]
  },
  {
   "cell_type": "code",
   "execution_count": 19,
   "id": "8cfc08df-8cc5-4019-b202-8b43bf61bc72",
   "metadata": {},
   "outputs": [],
   "source": [
    "def get_melismas(pattern, corrections, skip_final, num_repetitions=17):\n",
    "    melismas = [deepcopy(pattern) for _ in range(num_repetitions)]\n",
    "    for (rep, idx), correction in corrections.items():\n",
    "        melismas[rep - 1][idx - 1] = correction   \n",
    "    \n",
    "    melismas = [n for pat in melismas for n in pat]\n",
    "    return [None] + melismas[:-skip_final] + [None]"
   ]
  },
  {
   "cell_type": "markdown",
   "id": "a63593d8-ce59-403d-95f9-32e5218435f4",
   "metadata": {
    "jp-MarkdownHeadingCollapsed": true,
    "tags": []
   },
   "source": [
    "### Soprano"
   ]
  },
  {
   "cell_type": "code",
   "execution_count": 20,
   "id": "26e366d0-1d81-4686-af62-09e13345f085",
   "metadata": {},
   "outputs": [],
   "source": [
    "# To do\n",
    "soprano_melismas = [None for _ in alto_notes]"
   ]
  },
  {
   "cell_type": "markdown",
   "id": "fa2373d8-7f9c-40ac-819b-6643177fc251",
   "metadata": {
    "jp-MarkdownHeadingCollapsed": true,
    "tags": []
   },
   "source": [
    "### Alto"
   ]
  },
  {
   "cell_type": "code",
   "execution_count": 21,
   "id": "af75082f-4421-460b-8901-5a10118ada3b",
   "metadata": {
    "tags": []
   },
   "outputs": [],
   "source": [
    "alto_melismas_raw = [\n",
    "    None,\n",
    "    # 1\n",
    "    None, 'G3', None, None, 'B3', None, 'E3', None, None, 'B3', None, None, None, None, None,\n",
    "    # 2\n",
    "    'B3', None, None, None, 'B3', None, 'E3', None, None, 'B3', None, None, None, None, None,\n",
    "    # 3\n",
    "    None, 'G3', None, None, 'B3', None, 'E3', None, None, 'B3', None, None, None, None, None,\n",
    "    # 4\n",
    "    'E4', None, 'G3', None, 'B3', None, 'E3', None, None, 'B3', None, None, None, None, 'B3',\n",
    "    # 5\n",
    "    None, 'E4', None, None, 'B3', None, 'E3', None, None, 'B3', None, None, None, None, None,\n",
    "    # 6\n",
    "    'G3', None, None, None, None, None, 'E3', None, None, 'B3', None, None, None, None, None,\n",
    "    # 7\n",
    "    'G3', None, None, None, None, None, None, None, None, 'B3', None, None, None, None, None, \n",
    "    # 8\n",
    "    'G3', None, None, None, 'B3', None, None, None, None, 'B3', None, None, None, None, None, \n",
    "    # 9\n",
    "    'G3', None, None, None, 'B3', None, 'E3', None, None, 'B3', None, None, None, None, None, \n",
    "    # 10\n",
    "    'G3', None, None, None, 'B3', None, 'E3', None, None, None, None, None, None, None, None, \n",
    "    # 11\n",
    "    'G3', None, None, None, 'B3', None, 'E3', None, 'G3', None, None, None, None, None, None, \n",
    "    # 12\n",
    "    'G3', None, None, None, 'B3', None, 'E3', None, None, None, None, None, None, None, None, \n",
    "    # 13\n",
    "    'G3', None, None, None, 'B3', None, 'E3', None, None, 'B3', None, None, None, None, None, \n",
    "    # 14\n",
    "    'G3', None, None, None, 'B3', None, 'E3', None, None, 'B3', None, None, None, None, None, \n",
    "    # 15\n",
    "    'G3', None, None, None, 'B3', None, 'E3', None, None, 'B3', None, None, None, None, None, \n",
    "    # 16\n",
    "    'G3', None, None, None, 'B3', None, 'E3', None, None, 'B3', None, None, None, None, None, \n",
    "    # 17\n",
    "    None, 'G3', None, None, 'B3', None, 'E3', None, None, 'B3', None, \n",
    "    # End\n",
    "    None, None   \n",
    "]"
   ]
  },
  {
   "cell_type": "code",
   "execution_count": 22,
   "id": "a44908d2-5173-4268-bbbd-ba0aeb17a529",
   "metadata": {},
   "outputs": [],
   "source": [
    "alto_corrections = {\n",
    "    (1, 1): None, (1, 2): 'G3',\n",
    "    (2, 1): 'B3', \n",
    "    (3, 1): None, (3, 2): 'G3', \n",
    "    (4, 1): 'E4', (4, 3): 'G3', (4, 15): 'B3',\n",
    "    (5, 1): None, (5, 2): 'E4', \n",
    "    (6, 5): None,\n",
    "    (7, 5): None, (7, 7): None,\n",
    "    (8, 7): None,\n",
    "    (10, 10): None,\n",
    "    (11, 9): 'G3', (11,10): None,\n",
    "    (12, 10): None,\n",
    "    (17, 1): None, (17, 2): 'G3'\n",
    "}"
   ]
  },
  {
   "cell_type": "code",
   "execution_count": 23,
   "id": "57488cd2-4091-4e83-a298-4c6b23a04d4e",
   "metadata": {},
   "outputs": [],
   "source": [
    "alto_melisma_pattern = [\n",
    "    'G3', None, None, None, 'B3', None, 'E3', None, None, 'B3', None, None, None, None, None]"
   ]
  },
  {
   "cell_type": "code",
   "execution_count": 24,
   "id": "2c9f9c91-28e3-4a68-a0f8-b11d30934cdd",
   "metadata": {},
   "outputs": [],
   "source": [
    "alto_melismas = get_melismas(alto_melisma_pattern, alto_corrections, 3)\n",
    "\n",
    "# Test for equality\n",
    "for i, n in enumerate(alto_melismas_raw): \n",
    "    assert n == alto_melismas[i]\n",
    "\n",
    "alto_melismas = [None if n is None else Note(n) for n in alto_melismas]"
   ]
  },
  {
   "cell_type": "markdown",
   "id": "c19f0f9e-b896-49f2-b9da-71a3363ae648",
   "metadata": {
    "jp-MarkdownHeadingCollapsed": true,
    "tags": []
   },
   "source": [
    "### Tenor"
   ]
  },
  {
   "cell_type": "code",
   "execution_count": 25,
   "id": "b54f597d-d34c-4ff1-93e7-1e406032fea1",
   "metadata": {},
   "outputs": [],
   "source": [
    "tenor_melismas = [\n",
    "    None,\n",
    "    None, 'G3', None, None, None, None, None, None, None, 'E4', None, None, 'B3', None, 'E3',\n",
    "    None, None, None, None, None, None, None, None, None, None, 'E4', 'B3', None, None, None,\n",
    "    None, None, None, None, None, None, None, None, None, 'E4', None, None, 'B3', None, 'E4', \n",
    "    None, \n",
    "    # To do \n",
    "]\n",
    "tenor_melismas = [None if n is None else Note(n) for n in tenor_melismas]\n",
    "tenor_melismas += [None] * (len(alto_melismas) - len(tenor_melismas))"
   ]
  },
  {
   "cell_type": "markdown",
   "id": "303bc4e7-0cd0-4b2f-81fd-60360ca992da",
   "metadata": {
    "jp-MarkdownHeadingCollapsed": true,
    "tags": []
   },
   "source": [
    "### Bass"
   ]
  },
  {
   "cell_type": "code",
   "execution_count": 26,
   "id": "000efa9c-fb23-4cdd-9db1-7b8db69dc2b5",
   "metadata": {},
   "outputs": [],
   "source": [
    "bass_melismas = [\n",
    "    None,\n",
    "    # 1\n",
    "    None, 'E3', None, None, 'B3', None, 'G3', None, None, 'E3', None, None, None, None, 'B2',\n",
    "    # 2\n",
    "    None, None, None, None, 'B3', None, 'G3', None, None, 'E3', None, None, None, None, 'B2',\n",
    "    # 3\n",
    "    None, None, None, None, 'B3', None, 'G3', None, None, 'E3', None, None, None, None, 'B2',\n",
    "    # 4\n",
    "    None, None, None, None, 'B3', None, 'G3', None, None, 'E3', None, None, None, None, 'B2',\n",
    "    # 5\n",
    "    None, 'E3', None, None, None, None, 'G3', None, None, 'E3', None, None, None, None, 'B2',\n",
    "    # 6\n",
    "    None, 'E3', None, None, None, None, 'G3', None, None, 'E3', None, None, None, None, 'B2',\n",
    "    # 7\n",
    "    None, 'E3', None, None, None, None, None, None, None, 'E3', None, None, None, None, 'B2',\n",
    "    # 8\n",
    "    None, 'E3', None, None, 'B3', None, None, None, None, 'E3', None, None, None, None, 'B2',\n",
    "    # 9\n",
    "    None, 'E3', None, None, 'B3', None, None, None, None, 'E3', None, None, None, None, 'B2',\n",
    "    # 10\n",
    "    None, 'E3', None, None, 'B3', None, 'G3', None, None, None, None, None, None, None, 'B2',\n",
    "    # 11\n",
    "    None, 'E3', None, None, 'B3', None, 'G3', None, None, None, None, None, None, None, 'B2',\n",
    "    # 12\n",
    "    None, 'E3', None, None, 'B3', None, 'G3', None, None, None, None, None, None, None, 'B2', \n",
    "    # 13\n",
    "    None, 'E3', None, None, 'B3', None, 'G3', None, None, 'E3', None, None, None, None, 'B2',\n",
    "    # 14\n",
    "    None, 'E3', None, None, 'B3', None, 'G3', None, None, 'E3', None, None, None, None, 'B2',\n",
    "    # 15\n",
    "    None, 'E3', None, None, 'B3', None, 'G3', None, None, 'E3', None, None, None, None, None, \n",
    "    # 16\n",
    "    None, 'E3', None, None, 'B3', None, 'G3', None, None, 'E3', None, None, None, None, None, \n",
    "    # 17\n",
    "    None, 'E3', None, None, 'B3', None, 'G3', None, None, 'E3', None, None, None, None, None, \n",
    "    # End\n",
    "    None, None\n",
    "]\n",
    "bass_melismas = [None if n is None else Note(n) for n in bass_melismas]"
   ]
  },
  {
   "cell_type": "markdown",
   "id": "1d7e5adf-4029-414f-b7e9-99586cbaa786",
   "metadata": {},
   "source": [
    "**TO DO** Seems as if the bass melismas follow a simple pattern from which Part only deviates around section openings/endings. Maybe something along the lines 'no melismas at the initial 2 or final 2 notes?"
   ]
  },
  {
   "cell_type": "markdown",
   "id": "eaaf0c9b-24f3-4043-a1d2-88e36925c8ef",
   "metadata": {},
   "source": [
    "## Insert syllables"
   ]
  },
  {
   "cell_type": "code",
   "execution_count": 27,
   "id": "19060d1b-14b2-404c-86f8-fb57cc12c71b",
   "metadata": {},
   "outputs": [],
   "source": [
    "class Syllable(music21.stream.Stream):\n",
    "    def __init__(self, *args, index=None, text=''):\n",
    "        self.text_ = text\n",
    "        self.index_ = index\n",
    "        super().__init__(*args)\n",
    "    \n",
    "    def setDuration(self, quarterLength):\n",
    "        note_duration = quarterLength / len(self.notes)\n",
    "        for note in self.notes:\n",
    "            note.quarterLength = note_duration\n",
    "            \n",
    "    def setLyrics(self, text):\n",
    "        self.notes[0].lyric = text"
   ]
  },
  {
   "cell_type": "code",
   "execution_count": 28,
   "id": "04ef53fd-2554-4ba0-bd58-cfc28d0a202b",
   "metadata": {},
   "outputs": [],
   "source": [
    "def get_syllables(notes, melismas):\n",
    "    syllables = []\n",
    "    for note, melisma in zip(notes, melismas):\n",
    "        syll = Syllable(deepcopy(note))\n",
    "        if melisma is not None: \n",
    "            syll.append(deepcopy(melisma))\n",
    "        syllables.append(syll)\n",
    "    return syllables\n",
    "\n",
    "# To do: soprano\n",
    "alto_syllables = get_syllables(alto_notes, alto_melismas)\n",
    "tenor_syllables = get_syllables(tenor_notes, tenor_melismas)\n",
    "bass_syllables = get_syllables(bass_notes, bass_melismas)"
   ]
  },
  {
   "cell_type": "code",
   "execution_count": 29,
   "id": "5b7f6c85-f179-48b3-810f-b95700cefdce",
   "metadata": {},
   "outputs": [],
   "source": [
    "def insert_syllables(syllables, measure, text_syllables):\n",
    "    for syllable, text in zip(syllables, text_syllables):\n",
    "        syllable.setLyrics(text)\n",
    "        for note in syllable.notes:\n",
    "            measure.append(note)\n",
    "        if len(syllable.notes) > 1:\n",
    "            slur = music21.spanner.Slur([n for n in syllable.notes])\n",
    "            measure.insert(0, slur)\n",
    "            \n",
    "score = init_score(SYLLABLES_PER_MEASURE, DIVISI)\n",
    "alto_iter = iter(alto_syllables)\n",
    "bass_iter = iter(bass_syllables)\n",
    "tenor_iter = iter(tenor_syllables)\n",
    "text_iter = iter(SYLLABLES)\n",
    "\n",
    "for m in range(1, score.editorial['measures'] - 3):\n",
    "    syll_count = score.bass.measure(m).editorial['syllable_count']\n",
    "    divisi = score.bass.measure(m).editorial['divisi']\n",
    "    text_sylls = [next(text_iter) for _ in range(syll_count)]\n",
    "    \n",
    "    # Collect alto syllables\n",
    "    alto_sylls = []\n",
    "    if 'A' in divisi:\n",
    "        alto_sylls = [next(alto_iter) for _ in range(syll_count)]\n",
    "    \n",
    "    # Collect bass syllables\n",
    "    bass_sylls = []\n",
    "    if 'B' in divisi:\n",
    "        bass_sylls = [next(bass_iter) for _ in range(syll_count)]\n",
    "    \n",
    "    # Align bass and alto syllable duration\n",
    "    if divisi == 'SATB':\n",
    "        for alto_syll, bass_syll in zip(alto_sylls, bass_sylls):\n",
    "            duration = max(alto_syll.quarterLength, bass_syll.quarterLength)\n",
    "            alto_syll.setDuration(duration)\n",
    "            bass_syll.setDuration(duration)\n",
    "    \n",
    "    # Tenor syllables\n",
    "    tenor_sylls = []\n",
    "    if 'T' in divisi:\n",
    "        tenor_sylls = [next(tenor_iter) for _ in range(syll_count)]\n",
    "        for i, tenor_syll in enumerate(tenor_sylls):\n",
    "            tenor_syll.setDuration(bass_sylls[i].quarterLength)\n",
    "\n",
    "    insert_syllables(alto_sylls, score.alto.measure(m), text_sylls)\n",
    "    insert_syllables(bass_sylls, score.bass.measure(m), text_sylls)\n",
    "    insert_syllables(tenor_sylls, score.tenor.measure(m), text_sylls)"
   ]
  },
  {
   "cell_type": "markdown",
   "id": "5c594c64-ad97-4314-ab7c-9aff5e6c25d9",
   "metadata": {},
   "source": [
    "## Finalize score"
   ]
  },
  {
   "cell_type": "code",
   "execution_count": 30,
   "id": "9592e965-e361-497e-8a21-fca997af8a65",
   "metadata": {},
   "outputs": [],
   "source": [
    "def set_time_signatures(score):\n",
    "    for m in range(score.editorial['measures']):\n",
    "        bar_duration = int(score.measure(m+1).quarterLength)\n",
    "        if bar_duration == 0: continue\n",
    "        t = music21.meter.TimeSignature(f'{bar_duration}/4')\n",
    "        t.style.hideObjectOnPrint = True\n",
    "        for part in score.parts:\n",
    "            part.measure(m+1).timeSignature = t"
   ]
  },
  {
   "cell_type": "code",
   "execution_count": 31,
   "id": "28053ed1-24f3-457b-9fa7-041e247a0e03",
   "metadata": {},
   "outputs": [],
   "source": [
    "set_time_signatures(score)"
   ]
  },
  {
   "cell_type": "code",
   "execution_count": 32,
   "id": "f46c9afd-338c-4be0-8eea-2e78ecb01dd0",
   "metadata": {},
   "outputs": [
    {
     "data": {
      "image/png": "[encoded data removed]",
      "text/plain": [
       "<IPython.core.display.Image object>"
      ]
     },
     "metadata": {
      "image/png": {
       "height": 697,
       "width": 750
      }
     },
     "output_type": "display_data"
    }
   ],
   "source": [
    "score.measures(1, 6).show()"
   ]
  },
  {
   "cell_type": "markdown",
   "id": "ca21e8eb-81fe-479a-aad4-99efb4133708",
   "metadata": {},
   "source": [
    "## To do"
   ]
  },
  {
   "cell_type": "markdown",
   "id": "74be8b24-dbd3-4a28-9c16-0dd2487b30a7",
   "metadata": {},
   "source": [
    "* Add soprano tintanibulli voice\n",
    "* Add tenor melismas\n",
    "* Add soprano melismas\n",
    "* Simplify melismas to pattern\n",
    "* Fix notes at entrances"
   ]
  },
  {
   "cell_type": "code",
   "execution_count": null,
   "id": "14922d44-bda0-42a7-8cc4-2cc6e10812ef",
   "metadata": {},
   "outputs": [],
   "source": []
  }
 ],
 "metadata": {
  "kernelspec": {
   "display_name": "Python 3 (ipykernel)",
   "language": "python",
   "name": "python3"
  },
  "language_info": {
   "codemirror_mode": {
    "name": "ipython",
    "version": 3
   },
   "file_extension": ".py",
   "mimetype": "text/x-python",
   "name": "python",
   "nbconvert_exporter": "python",
   "pygments_lexer": "ipython3",
   "version": "3.8.1"
  }
 },
 "nbformat": 4,
 "nbformat_minor": 5
}
